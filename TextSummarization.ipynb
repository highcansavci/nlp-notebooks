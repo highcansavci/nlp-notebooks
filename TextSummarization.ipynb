{
 "cells": [
  {
   "cell_type": "code",
   "execution_count": 1,
   "id": "4b876a04",
   "metadata": {},
   "outputs": [],
   "source": [
    "import numpy as np\n",
    "import pandas as pd\n",
    "import textwrap\n",
    "import nltk\n",
    "from nltk.corpus import stopwords\n",
    "from nltk import word_tokenize\n",
    "from nltk.stem import WordNetLemmatizer, PorterStemmer\n",
    "from sklearn.feature_extraction.text import TfidfVectorizer"
   ]
  },
  {
   "cell_type": "code",
   "execution_count": 2,
   "id": "5a042735",
   "metadata": {},
   "outputs": [
    {
     "name": "stderr",
     "output_type": "stream",
     "text": [
      "[nltk_data] Downloading package punkt to\n",
      "[nltk_data]     C:\\Users\\developer\\AppData\\Roaming\\nltk_data...\n",
      "[nltk_data]   Package punkt is already up-to-date!\n",
      "[nltk_data] Downloading package stopwords to\n",
      "[nltk_data]     C:\\Users\\developer\\AppData\\Roaming\\nltk_data...\n",
      "[nltk_data]   Package stopwords is already up-to-date!\n",
      "[nltk_data] Downloading package averaged_perceptron_tagger to\n",
      "[nltk_data]     C:\\Users\\developer\\AppData\\Roaming\\nltk_data...\n",
      "[nltk_data]   Package averaged_perceptron_tagger is already up-to-\n",
      "[nltk_data]       date!\n"
     ]
    },
    {
     "data": {
      "text/plain": [
       "True"
      ]
     },
     "execution_count": 2,
     "metadata": {},
     "output_type": "execute_result"
    }
   ],
   "source": [
    "nltk.download(\"punkt\")\n",
    "nltk.download(\"stopwords\")\n",
    "nltk.download(\"averaged_perceptron_tagger\")"
   ]
  },
  {
   "cell_type": "markdown",
   "id": "e527f196",
   "metadata": {},
   "source": [
    "# Text Summarization Using Naive Average"
   ]
  },
  {
   "cell_type": "code",
   "execution_count": 4,
   "id": "f4dc32ee",
   "metadata": {},
   "outputs": [],
   "source": [
    "df = pd.read_csv(\"bbc_text_cls.csv\")"
   ]
  },
  {
   "cell_type": "code",
   "execution_count": 5,
   "id": "1fa38afd",
   "metadata": {},
   "outputs": [
    {
     "data": {
      "text/html": [
       "<div>\n",
       "<style scoped>\n",
       "    .dataframe tbody tr th:only-of-type {\n",
       "        vertical-align: middle;\n",
       "    }\n",
       "\n",
       "    .dataframe tbody tr th {\n",
       "        vertical-align: top;\n",
       "    }\n",
       "\n",
       "    .dataframe thead th {\n",
       "        text-align: right;\n",
       "    }\n",
       "</style>\n",
       "<table border=\"1\" class=\"dataframe\">\n",
       "  <thead>\n",
       "    <tr style=\"text-align: right;\">\n",
       "      <th></th>\n",
       "      <th>text</th>\n",
       "      <th>labels</th>\n",
       "    </tr>\n",
       "  </thead>\n",
       "  <tbody>\n",
       "    <tr>\n",
       "      <th>0</th>\n",
       "      <td>Ad sales boost Time Warner profit\\n\\nQuarterly...</td>\n",
       "      <td>business</td>\n",
       "    </tr>\n",
       "    <tr>\n",
       "      <th>1</th>\n",
       "      <td>Dollar gains on Greenspan speech\\n\\nThe dollar...</td>\n",
       "      <td>business</td>\n",
       "    </tr>\n",
       "    <tr>\n",
       "      <th>2</th>\n",
       "      <td>Yukos unit buyer faces loan claim\\n\\nThe owner...</td>\n",
       "      <td>business</td>\n",
       "    </tr>\n",
       "    <tr>\n",
       "      <th>3</th>\n",
       "      <td>High fuel prices hit BA's profits\\n\\nBritish A...</td>\n",
       "      <td>business</td>\n",
       "    </tr>\n",
       "    <tr>\n",
       "      <th>4</th>\n",
       "      <td>Pernod takeover talk lifts Domecq\\n\\nShares in...</td>\n",
       "      <td>business</td>\n",
       "    </tr>\n",
       "  </tbody>\n",
       "</table>\n",
       "</div>"
      ],
      "text/plain": [
       "                                                text    labels\n",
       "0  Ad sales boost Time Warner profit\\n\\nQuarterly...  business\n",
       "1  Dollar gains on Greenspan speech\\n\\nThe dollar...  business\n",
       "2  Yukos unit buyer faces loan claim\\n\\nThe owner...  business\n",
       "3  High fuel prices hit BA's profits\\n\\nBritish A...  business\n",
       "4  Pernod takeover talk lifts Domecq\\n\\nShares in...  business"
      ]
     },
     "execution_count": 5,
     "metadata": {},
     "output_type": "execute_result"
    }
   ],
   "source": [
    "df.head()"
   ]
  },
  {
   "cell_type": "code",
   "execution_count": 6,
   "id": "cd879d48",
   "metadata": {},
   "outputs": [],
   "source": [
    "doc = df[df.labels==\"tech\"][\"text\"].sample(random_state=1234)"
   ]
  },
  {
   "cell_type": "code",
   "execution_count": 7,
   "id": "75e4aff2",
   "metadata": {},
   "outputs": [],
   "source": [
    "def wrap(x):\n",
    "    return textwrap.fill(x, replace_whitespace=False, fix_sentence_endings=True)"
   ]
  },
  {
   "cell_type": "code",
   "execution_count": 8,
   "id": "a4a0b868",
   "metadata": {},
   "outputs": [
    {
     "name": "stdout",
     "output_type": "stream",
     "text": [
      "China 'to overtake US net use'\n",
      "\n",
      "The Chinese net-using population looks\n",
      "set to exceed that of the US in less than three years, says a report.\n",
      "China's net users number 100m but this represents less than 8% of the\n",
      "country's 1.3 billion people.  Market analysts Panlogic predicts that\n",
      "net users in China will exceed the 137 million US users of the net by\n",
      "2008. The report says that the country's culture will mean that\n",
      "Chinese people will use the net for very different ends than in many\n",
      "other nations.\n",
      "\n",
      "Already net use in China has a very different\n",
      "character than in many Western nations, said William Makower, chief\n",
      "executive of Panlogic.  In many Western nations desktop computers that\n",
      "can access the net are hard to escape at work.  By contrast in China\n",
      "workplace machines are relatively rare.  This, combined with the\n",
      "relatively high cost of PCs in China and the time it takes to get\n",
      "phone lines installed, helps to explains the huge number of net cafes\n",
      "in China.  Only 36% of Chinese homes have telephones according to\n",
      "reports.  \"Net usage tends to happen in the evening,\" said Mr Makower,\n",
      "\"they get access only when they go home and go off to the internet\n",
      "caf&#233;.\" \"Its fundamentally different usage to what we have here,\"\n",
      "he said.\n",
      "\n",
      "Net use in China was still very much an urban phenomenon\n",
      "with most users living on the country's eastern seaboard or in its\n",
      "three biggest cities.  The net is key to helping Chinese people keep\n",
      "in touch with friends, said Mr Makower.  Many people use it in\n",
      "preference to the phone or arrange to meet up with friends at net\n",
      "cafes.  What people can do on the net is also limited by aspects of\n",
      "Chinese life.  For instance, said Mr Makower, credit cards are rare in\n",
      "China partly because of fears people have about getting in to debt.\n",
      "\"The most popular way to pay is Cash-On-Delivery,\" he said, \"and\n",
      "that's quite a brake to the development of e-commerce.\"  The arrival\n",
      "of foreign banks in China, due in 2006, could mean greater use of\n",
      "credit cards but for the moment they are rare, said Mr Makower.  But\n",
      "if Chinese people are not spending cash online they are interested in\n",
      "the news they can get via the net and the view it gives them on\n",
      "Western ways of living.  \"A large part of the attraction of the\n",
      "internet is that it goes below the radar,\" he said.  \"Generally it's\n",
      "more difficult for the government to be able to control it.\"  \"Its\n",
      "real value is as an open window onto what's happening elsewhere in the\n",
      "world,\" he said.  Government restrictions on how much advertising can\n",
      "appear on television means that the net is a source of many commercial\n",
      "messages Chinese people would not see anywhere else.  Familiarity with\n",
      "the net also has a certain social cachet.  \"It's a sign of them having\n",
      "made it that they can use the internet and navigate around it,\" said\n",
      "Mr Makower.\n"
     ]
    }
   ],
   "source": [
    "print(wrap(doc.iloc[0]))"
   ]
  },
  {
   "cell_type": "code",
   "execution_count": 9,
   "id": "e9bff461",
   "metadata": {},
   "outputs": [],
   "source": [
    "sentences = nltk.sent_tokenize(doc.iloc[0].split(\"\\n\", 1)[1])"
   ]
  },
  {
   "cell_type": "code",
   "execution_count": 11,
   "id": "ec2f617b",
   "metadata": {},
   "outputs": [],
   "source": [
    "vectorizer = TfidfVectorizer(stop_words=stopwords.words(\"english\"), norm=\"l1\")"
   ]
  },
  {
   "cell_type": "code",
   "execution_count": 14,
   "id": "8a275a7b",
   "metadata": {},
   "outputs": [
    {
     "data": {
      "text/plain": [
       "<25x175 sparse matrix of type '<class 'numpy.float64'>'\n",
       "\twith 274 stored elements in Compressed Sparse Row format>"
      ]
     },
     "execution_count": 14,
     "metadata": {},
     "output_type": "execute_result"
    }
   ],
   "source": [
    "X = vectorizer.fit_transform(sentences)\n",
    "X"
   ]
  },
  {
   "cell_type": "code",
   "execution_count": 21,
   "id": "35ba03a8",
   "metadata": {},
   "outputs": [],
   "source": [
    "scores = np.zeros(len(sentences))\n",
    "for i in range(len(sentences)):\n",
    "    row = X[i, :]\n",
    "    scores[i] = row[row != 0].mean()"
   ]
  },
  {
   "cell_type": "code",
   "execution_count": 22,
   "id": "b0ea35c1",
   "metadata": {},
   "outputs": [
    {
     "data": {
      "text/plain": [
       "array([0.07692308, 0.1       , 0.08333333, 0.07692308, 0.06666667,\n",
       "       0.1       , 0.16666667, 0.05555556, 0.16666667, 0.06666667,\n",
       "       0.25      , 0.06666667, 0.09090909, 0.1       , 0.14285714,\n",
       "       0.07692308, 0.1       , 0.05882353, 0.06666667, 0.14285714,\n",
       "       0.2       , 0.11111111, 0.05555556, 0.16666667, 0.11111111])"
      ]
     },
     "execution_count": 22,
     "metadata": {},
     "output_type": "execute_result"
    }
   ],
   "source": [
    "scores"
   ]
  },
  {
   "cell_type": "code",
   "execution_count": 23,
   "id": "c7ec69fa",
   "metadata": {},
   "outputs": [],
   "source": [
    "sort_idx = np.argsort(-scores)"
   ]
  },
  {
   "cell_type": "code",
   "execution_count": 25,
   "id": "d76707a0",
   "metadata": {},
   "outputs": [
    {
     "name": "stdout",
     "output_type": "stream",
     "text": [
      "Generated Summary: \n",
      "0.25: \"Its fundamentally different usage to what we have here,\" he\n",
      "said.\n",
      "0.20: \"Generally it's more difficult for the government to be able to\n",
      "control it.\"\n",
      "0.17: By contrast in China workplace machines are relatively rare.\n",
      "0.17: Only 36% of Chinese homes have telephones according to reports.\n",
      "0.17: Familiarity with the net also has a certain social cachet.\n"
     ]
    }
   ],
   "source": [
    "print(\"Generated Summary: \")\n",
    "for i in sort_idx[:5]:\n",
    "    print(wrap(\"%.2f: %s\" % (scores[i], sentences[i])))"
   ]
  },
  {
   "cell_type": "code",
   "execution_count": 26,
   "id": "0f83198f",
   "metadata": {},
   "outputs": [
    {
     "data": {
      "text/plain": [
       "\"China 'to overtake US net use'\""
      ]
     },
     "execution_count": 26,
     "metadata": {},
     "output_type": "execute_result"
    }
   ],
   "source": [
    "doc.iloc[0].split(\"\\n\", 1)[0]"
   ]
  },
  {
   "cell_type": "code",
   "execution_count": 27,
   "id": "1041b8bf",
   "metadata": {},
   "outputs": [],
   "source": [
    "def summarize(text):\n",
    "    sents = nltk.sent_tokenize(text)\n",
    "    X = vectorizer.fit_transform(sents)\n",
    "    scores = np.zeros(len(sents))\n",
    "    for i in range(len(sents)):\n",
    "        row = X[i, :]\n",
    "        scores[i] = row[row != 0].mean()\n",
    "    sort_idx = np.argsort(-scores)\n",
    "    print(\"Generated Summary: \")\n",
    "    for i in sort_idx[:5]:\n",
    "        print(wrap(\"%.2f: %s\" % (scores[i], sents[i])))"
   ]
  },
  {
   "cell_type": "code",
   "execution_count": 30,
   "id": "ba363578",
   "metadata": {},
   "outputs": [
    {
     "name": "stdout",
     "output_type": "stream",
     "text": [
      "U2 to play at Grammy awards show\n",
      "Generated Summary: \n",
      "0.33: It will be held at the Staples Center.\n",
      "0.10: This year the Grammys have been dominated by rap star Kanye\n",
      "West, who is in contention for 10 awards.\n",
      "0.10: US comedian Ellen Degeneres and singer Christine Milian will\n",
      "present awards at the event.\n",
      "0.09: U2 are nominated twice for their recent single Vertigo,\n",
      "including a nomination for best rock song.\n",
      "0.08: Last week Grammy producers announced the show will be hosted by\n",
      "rap star and Chicago actress Queen Latifah.\n"
     ]
    }
   ],
   "source": [
    "doc = df[df.labels == \"entertainment\"][\"text\"].sample(random_state=1234)\n",
    "print(doc.iloc[0].split(\"\\n\", 1)[0])\n",
    "summarize(doc.iloc[0].split(\"\\n\", 1)[1])"
   ]
  },
  {
   "cell_type": "markdown",
   "id": "64d0cb37",
   "metadata": {},
   "source": [
    "# Text Summarization Using TextRank"
   ]
  },
  {
   "cell_type": "code",
   "execution_count": null,
   "id": "3e1bb979",
   "metadata": {},
   "outputs": [],
   "source": []
  }
 ],
 "metadata": {
  "kernelspec": {
   "display_name": "Python 3 (ipykernel)",
   "language": "python",
   "name": "python3"
  },
  "language_info": {
   "codemirror_mode": {
    "name": "ipython",
    "version": 3
   },
   "file_extension": ".py",
   "mimetype": "text/x-python",
   "name": "python",
   "nbconvert_exporter": "python",
   "pygments_lexer": "ipython3",
   "version": "3.9.12"
  }
 },
 "nbformat": 4,
 "nbformat_minor": 5
}
